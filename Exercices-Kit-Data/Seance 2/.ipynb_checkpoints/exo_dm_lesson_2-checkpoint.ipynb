{
 "cells": [
  {
   "cell_type": "code",
   "execution_count": 59,
   "metadata": {},
   "outputs": [],
   "source": [
    "from bs4 import BeautifulSoup\n",
    "import requests\n",
    "import time"
   ]
  },
  {
   "cell_type": "code",
   "execution_count": 62,
   "metadata": {},
   "outputs": [],
   "source": [
    "def filter_link(soup):\n",
    "    links = []\n",
    "    for a in soup.find(id=\"mw-content-text\").select('p a'):\n",
    "        if a.parent.name != 'span':\n",
    "            link = a['href']\n",
    "            if link and link.startswith('/wiki/') and ':' not in link:\n",
    "                url = \"https://fr.wikipedia.org\" + link\n",
    "                links.append(url)\n",
    "    return links\n",
    "\n",
    "# to avoid loops with already visited URL\n",
    "\n",
    "def find_not_yet_visited_url(links, visited_links, loop_size=5):\n",
    "    for link in links:\n",
    "        n = max(len(visited_links), loop_size)\n",
    "        if link not in visited_links[-n:] and link != visited_links[0]:\n",
    "            url = link\n",
    "            break\n",
    "\n",
    "    return(url)\n",
    "\n",
    "\n",
    "def find_Philosophie(url):\n",
    "    visited_links = []\n",
    "    visited_links.append(url)\n",
    "    n_page = 0\n",
    "    while n_page < 50 and not url.endswith(\"/wiki/Philosophie\"):\n",
    "        \n",
    "        soup = BeautifulSoup(requests.get(url).text, 'html.parser')\n",
    "        links = filter_link(soup)\n",
    "        url = find_not_yet_visited_url(links, visited_links)\n",
    "        print('url n°' + str(n_page+1) + ': ' + url)\n",
    "        visited_links.append(url)\n",
    "        n_page += 1\n",
    "\n",
    "    return visited_links, n_page"
   ]
  },
  {
   "cell_type": "code",
   "execution_count": 61,
   "metadata": {
    "scrolled": true
   },
   "outputs": [
    {
     "name": "stdout",
     "output_type": "stream",
     "text": [
      "url n°1: https://fr.wikipedia.org/wiki/Langage_courant\n",
      "url n°2: https://fr.wikipedia.org/wiki/Langue\n",
      "url n°3: https://fr.wikipedia.org/wiki/Syst%C3%A8me\n",
      "url n°4: https://fr.wikipedia.org/wiki/Ensemble\n",
      "url n°5: https://fr.wikipedia.org/wiki/Math%C3%A9matiques\n",
      "url n°6: https://fr.wikipedia.org/wiki/Connaissance\n",
      "url n°7: https://fr.wikipedia.org/wiki/Notion\n",
      "url n°8: https://fr.wikipedia.org/wiki/Esprit\n",
      "url n°9: https://fr.wikipedia.org/wiki/Ph%C3%A9nom%C3%A8ne\n",
      "url n°10: https://fr.wikipedia.org/wiki/Chose_(philosophie)\n",
      "url n°11: https://fr.wikipedia.org/wiki/Latin\n",
      "url n°12: https://fr.wikipedia.org/wiki/Langues_italiques\n",
      "url n°13: https://fr.wikipedia.org/wiki/Famille_de_langues\n",
      "url n°14: https://fr.wikipedia.org/wiki/Locuteur\n",
      "url n°15: https://fr.wikipedia.org/wiki/Linguistique\n",
      "url n°16: https://fr.wikipedia.org/wiki/Antiquit%C3%A9\n",
      "url n°17: https://fr.wikipedia.org/wiki/%C3%89poque_historique\n",
      "url n°18: https://fr.wikipedia.org/wiki/Historien\n",
      "url n°19: https://fr.wikipedia.org/wiki/Histoire\n",
      "url n°20: https://fr.wikipedia.org/wiki/Fait\n",
      "url n°21: https://fr.wikipedia.org/wiki/Groupe_social\n",
      "url n°22: https://fr.wikipedia.org/wiki/Relations_intergroupes\n",
      "url n°23: https://fr.wikipedia.org/wiki/Psychologie_sociale\n",
      "url n°24: https://fr.wikipedia.org/wiki/Psychologie_exp%C3%A9rimentale\n",
      "url n°25: https://fr.wikipedia.org/wiki/Psychologie\n",
      "url n°26: https://fr.wikipedia.org/wiki/%C3%82me\n",
      "url n°27: https://fr.wikipedia.org/wiki/Principe_(philosophie)\n",
      "url n°28: https://fr.wikipedia.org/wiki/Conscience\n",
      "url n°29: https://fr.wikipedia.org/wiki/Concept_(philosophie)\n",
      "url n°30: https://fr.wikipedia.org/wiki/Proposition_(philosophie)\n",
      "url n°31: https://fr.wikipedia.org/wiki/Philosophie\n"
     ]
    },
    {
     "data": {
      "text/plain": [
       "(['https://fr.wikipedia.org/wiki/Individu',\n",
       "  'https://fr.wikipedia.org/wiki/Langage_courant',\n",
       "  'https://fr.wikipedia.org/wiki/Langue',\n",
       "  'https://fr.wikipedia.org/wiki/Syst%C3%A8me',\n",
       "  'https://fr.wikipedia.org/wiki/Ensemble',\n",
       "  'https://fr.wikipedia.org/wiki/Math%C3%A9matiques',\n",
       "  'https://fr.wikipedia.org/wiki/Connaissance',\n",
       "  'https://fr.wikipedia.org/wiki/Notion',\n",
       "  'https://fr.wikipedia.org/wiki/Esprit',\n",
       "  'https://fr.wikipedia.org/wiki/Ph%C3%A9nom%C3%A8ne',\n",
       "  'https://fr.wikipedia.org/wiki/Chose_(philosophie)',\n",
       "  'https://fr.wikipedia.org/wiki/Latin',\n",
       "  'https://fr.wikipedia.org/wiki/Langues_italiques',\n",
       "  'https://fr.wikipedia.org/wiki/Famille_de_langues',\n",
       "  'https://fr.wikipedia.org/wiki/Locuteur',\n",
       "  'https://fr.wikipedia.org/wiki/Linguistique',\n",
       "  'https://fr.wikipedia.org/wiki/Antiquit%C3%A9',\n",
       "  'https://fr.wikipedia.org/wiki/%C3%89poque_historique',\n",
       "  'https://fr.wikipedia.org/wiki/Historien',\n",
       "  'https://fr.wikipedia.org/wiki/Histoire',\n",
       "  'https://fr.wikipedia.org/wiki/Fait',\n",
       "  'https://fr.wikipedia.org/wiki/Groupe_social',\n",
       "  'https://fr.wikipedia.org/wiki/Relations_intergroupes',\n",
       "  'https://fr.wikipedia.org/wiki/Psychologie_sociale',\n",
       "  'https://fr.wikipedia.org/wiki/Psychologie_exp%C3%A9rimentale',\n",
       "  'https://fr.wikipedia.org/wiki/Psychologie',\n",
       "  'https://fr.wikipedia.org/wiki/%C3%82me',\n",
       "  'https://fr.wikipedia.org/wiki/Principe_(philosophie)',\n",
       "  'https://fr.wikipedia.org/wiki/Conscience',\n",
       "  'https://fr.wikipedia.org/wiki/Concept_(philosophie)',\n",
       "  'https://fr.wikipedia.org/wiki/Proposition_(philosophie)',\n",
       "  'https://fr.wikipedia.org/wiki/Philosophie'],\n",
       " 31)"
      ]
     },
     "execution_count": 61,
     "metadata": {},
     "output_type": "execute_result"
    }
   ],
   "source": [
    "find_Philosophie(\"https://fr.wikipedia.org/wiki/Individu\")"
   ]
  },
  {
   "cell_type": "code",
   "execution_count": null,
   "metadata": {},
   "outputs": [],
   "source": []
  }
 ],
 "metadata": {
  "kernelspec": {
   "display_name": "Python 3",
   "language": "python",
   "name": "python3"
  },
  "language_info": {
   "codemirror_mode": {
    "name": "ipython",
    "version": 3
   },
   "file_extension": ".py",
   "mimetype": "text/x-python",
   "name": "python",
   "nbconvert_exporter": "python",
   "pygments_lexer": "ipython3",
   "version": "3.7.3"
  }
 },
 "nbformat": 4,
 "nbformat_minor": 2
}
