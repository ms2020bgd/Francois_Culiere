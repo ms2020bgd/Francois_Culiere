{
 "cells": [
  {
   "cell_type": "code",
   "execution_count": 2,
   "metadata": {},
   "outputs": [],
   "source": [
    "import pandas as pd\n",
    "import numpy as np\n",
    "from requests import get\n",
    "import json\n",
    "import re\n",
    "import ipaddress\n",
    "import math\n",
    "import pandas_explode \n",
    "pandas_explode.patch()"
   ]
  },
  {
   "cell_type": "markdown",
   "metadata": {},
   "source": [
    "# I) Get price according to IP"
   ]
  },
  {
   "cell_type": "markdown",
   "metadata": {},
   "source": [
    "### 1) read csv file"
   ]
  },
  {
   "cell_type": "code",
   "execution_count": 232,
   "metadata": {},
   "outputs": [],
   "source": [
    "df = pd.read_csv(\"products.csv\", delimiter=\";\")"
   ]
  },
  {
   "cell_type": "code",
   "execution_count": 184,
   "metadata": {
    "scrolled": true
   },
   "outputs": [
    {
     "data": {
      "text/html": [
       "<div>\n",
       "<style scoped>\n",
       "    .dataframe tbody tr th:only-of-type {\n",
       "        vertical-align: middle;\n",
       "    }\n",
       "\n",
       "    .dataframe tbody tr th {\n",
       "        vertical-align: top;\n",
       "    }\n",
       "\n",
       "    .dataframe thead th {\n",
       "        text-align: right;\n",
       "    }\n",
       "</style>\n",
       "<table border=\"1\" class=\"dataframe\">\n",
       "  <thead>\n",
       "    <tr style=\"text-align: right;\">\n",
       "      <th></th>\n",
       "      <th>username</th>\n",
       "      <th>ip_address</th>\n",
       "      <th>product</th>\n",
       "      <th>price</th>\n",
       "      <th>infos</th>\n",
       "    </tr>\n",
       "  </thead>\n",
       "  <tbody>\n",
       "    <tr>\n",
       "      <th>0</th>\n",
       "      <td>ldrover0</td>\n",
       "      <td>666.666.666.666</td>\n",
       "      <td>Clam - Cherrystone</td>\n",
       "      <td>712.8</td>\n",
       "      <td>May contain sugar</td>\n",
       "    </tr>\n",
       "    <tr>\n",
       "      <th>1</th>\n",
       "      <td>kizakov1</td>\n",
       "      <td>nope</td>\n",
       "      <td>Soup - Campbells Bean Medley</td>\n",
       "      <td>379.26</td>\n",
       "      <td>Contains peanut and fish</td>\n",
       "    </tr>\n",
       "    <tr>\n",
       "      <th>2</th>\n",
       "      <td>abromet2</td>\n",
       "      <td>240.177.79.234</td>\n",
       "      <td>Island Oasis - Lemonade</td>\n",
       "      <td>305.96</td>\n",
       "      <td>Ingredients: mustard and fish</td>\n",
       "    </tr>\n",
       "    <tr>\n",
       "      <th>3</th>\n",
       "      <td>kkarolowski3</td>\n",
       "      <td>26.191.237.49</td>\n",
       "      <td>Water - Mineral, Natural</td>\n",
       "      <td>350.15</td>\n",
       "      <td>Contains gluten</td>\n",
       "    </tr>\n",
       "    <tr>\n",
       "      <th>4</th>\n",
       "      <td>mbuckney4</td>\n",
       "      <td>58.90.204.239</td>\n",
       "      <td>Radish - Pickled</td>\n",
       "      <td>949.79</td>\n",
       "      <td>May contain sugar, egg and fish</td>\n",
       "    </tr>\n",
       "  </tbody>\n",
       "</table>\n",
       "</div>"
      ],
      "text/plain": [
       "       username       ip_address                       product   price  \\\n",
       "0      ldrover0  666.666.666.666            Clam - Cherrystone   712.8   \n",
       "1      kizakov1             nope  Soup - Campbells Bean Medley  379.26   \n",
       "2      abromet2   240.177.79.234       Island Oasis - Lemonade  305.96   \n",
       "3  kkarolowski3    26.191.237.49      Water - Mineral, Natural  350.15   \n",
       "4     mbuckney4    58.90.204.239              Radish - Pickled  949.79   \n",
       "\n",
       "                             infos  \n",
       "0                May contain sugar  \n",
       "1         Contains peanut and fish  \n",
       "2    Ingredients: mustard and fish  \n",
       "3                  Contains gluten  \n",
       "4  May contain sugar, egg and fish  "
      ]
     },
     "execution_count": 184,
     "metadata": {},
     "output_type": "execute_result"
    }
   ],
   "source": [
    "df.head()"
   ]
  },
  {
   "cell_type": "markdown",
   "metadata": {},
   "source": [
    "### 2) define get location and currency information from ip address using https://ipgeolocation.io/documentation/ip-geolocation-api.html"
   ]
  },
  {
   "cell_type": "code",
   "execution_count": 185,
   "metadata": {},
   "outputs": [],
   "source": [
    "def location(ip):\n",
    "    API_key = \"7e600ecdc3d84178b7b6c1fe86045c64\"\n",
    "    url = \"https://api.ipgeolocation.io/ipgeo?apiKey=\" + API_key + \"&ip=\" + ip \n",
    "    response = get(url)\n",
    "    if response.status_code > 400 : # ip non valide\n",
    "        return(None, None, None)\n",
    "    else:\n",
    "        return(response.json()[\"country_name\"], response.json()[\"currency\"][\"name\"], \n",
    "               response.json()[\"currency\"][\"code\"] )\n",
    "    \n",
    "# Vectorize form\n",
    "location_vect = np.vectorize(location)"
   ]
  },
  {
   "cell_type": "markdown",
   "metadata": {},
   "source": [
    "### 3) get info from ip in the dataset"
   ]
  },
  {
   "cell_type": "code",
   "execution_count": 186,
   "metadata": {},
   "outputs": [],
   "source": [
    "country_name, currency_name, currency_code = location_vect(df.ip_address)"
   ]
  },
  {
   "cell_type": "markdown",
   "metadata": {},
   "source": [
    "### 4) insert values in the dataframe  "
   ]
  },
  {
   "cell_type": "code",
   "execution_count": 187,
   "metadata": {},
   "outputs": [],
   "source": [
    "df_c = df.copy()\n",
    "df_c.insert(2, \"ip_location\", country_name)\n",
    "df_c.insert(5, \"currency_code\", currency_code)"
   ]
  },
  {
   "cell_type": "code",
   "execution_count": 188,
   "metadata": {},
   "outputs": [
    {
     "data": {
      "text/html": [
       "<div>\n",
       "<style scoped>\n",
       "    .dataframe tbody tr th:only-of-type {\n",
       "        vertical-align: middle;\n",
       "    }\n",
       "\n",
       "    .dataframe tbody tr th {\n",
       "        vertical-align: top;\n",
       "    }\n",
       "\n",
       "    .dataframe thead th {\n",
       "        text-align: right;\n",
       "    }\n",
       "</style>\n",
       "<table border=\"1\" class=\"dataframe\">\n",
       "  <thead>\n",
       "    <tr style=\"text-align: right;\">\n",
       "      <th></th>\n",
       "      <th>username</th>\n",
       "      <th>ip_address</th>\n",
       "      <th>ip_location</th>\n",
       "      <th>product</th>\n",
       "      <th>price</th>\n",
       "      <th>currency_code</th>\n",
       "      <th>infos</th>\n",
       "    </tr>\n",
       "  </thead>\n",
       "  <tbody>\n",
       "    <tr>\n",
       "      <th>0</th>\n",
       "      <td>ldrover0</td>\n",
       "      <td>666.666.666.666</td>\n",
       "      <td>None</td>\n",
       "      <td>Clam - Cherrystone</td>\n",
       "      <td>712.8</td>\n",
       "      <td>None</td>\n",
       "      <td>May contain sugar</td>\n",
       "    </tr>\n",
       "    <tr>\n",
       "      <th>1</th>\n",
       "      <td>kizakov1</td>\n",
       "      <td>nope</td>\n",
       "      <td>None</td>\n",
       "      <td>Soup - Campbells Bean Medley</td>\n",
       "      <td>379.26</td>\n",
       "      <td>None</td>\n",
       "      <td>Contains peanut and fish</td>\n",
       "    </tr>\n",
       "    <tr>\n",
       "      <th>2</th>\n",
       "      <td>abromet2</td>\n",
       "      <td>240.177.79.234</td>\n",
       "      <td>None</td>\n",
       "      <td>Island Oasis - Lemonade</td>\n",
       "      <td>305.96</td>\n",
       "      <td>None</td>\n",
       "      <td>Ingredients: mustard and fish</td>\n",
       "    </tr>\n",
       "    <tr>\n",
       "      <th>3</th>\n",
       "      <td>kkarolowski3</td>\n",
       "      <td>26.191.237.49</td>\n",
       "      <td>United States</td>\n",
       "      <td>Water - Mineral, Natural</td>\n",
       "      <td>350.15</td>\n",
       "      <td>USD</td>\n",
       "      <td>Contains gluten</td>\n",
       "    </tr>\n",
       "    <tr>\n",
       "      <th>4</th>\n",
       "      <td>mbuckney4</td>\n",
       "      <td>58.90.204.239</td>\n",
       "      <td>Japan</td>\n",
       "      <td>Radish - Pickled</td>\n",
       "      <td>949.79</td>\n",
       "      <td>JPY</td>\n",
       "      <td>May contain sugar, egg and fish</td>\n",
       "    </tr>\n",
       "  </tbody>\n",
       "</table>\n",
       "</div>"
      ],
      "text/plain": [
       "       username       ip_address    ip_location                       product  \\\n",
       "0      ldrover0  666.666.666.666           None            Clam - Cherrystone   \n",
       "1      kizakov1             nope           None  Soup - Campbells Bean Medley   \n",
       "2      abromet2   240.177.79.234           None       Island Oasis - Lemonade   \n",
       "3  kkarolowski3    26.191.237.49  United States      Water - Mineral, Natural   \n",
       "4     mbuckney4    58.90.204.239          Japan              Radish - Pickled   \n",
       "\n",
       "    price currency_code                            infos  \n",
       "0   712.8          None                May contain sugar  \n",
       "1  379.26          None         Contains peanut and fish  \n",
       "2  305.96          None    Ingredients: mustard and fish  \n",
       "3  350.15           USD                  Contains gluten  \n",
       "4  949.79           JPY  May contain sugar, egg and fish  "
      ]
     },
     "execution_count": 188,
     "metadata": {},
     "output_type": "execute_result"
    }
   ],
   "source": [
    "df_c.head()"
   ]
  },
  {
   "cell_type": "markdown",
   "metadata": {},
   "source": [
    "### 5) drop None value where IP address can't be localized"
   ]
  },
  {
   "cell_type": "code",
   "execution_count": 189,
   "metadata": {
    "scrolled": false
   },
   "outputs": [],
   "source": [
    "df_c2 = df_c.dropna(subset = [\"ip_location\"]).copy()\n",
    "# remove the currency symbol if exists\n",
    "s = df_c2.price.str.split().str[0]\n",
    "df_c2.loc[:, [\"price\"]] = s.values.reshape(s.shape[0],1)"
   ]
  },
  {
   "cell_type": "code",
   "execution_count": 190,
   "metadata": {},
   "outputs": [],
   "source": [
    "df_c2[\"price\"] = pd.to_numeric(df_c2.price)"
   ]
  },
  {
   "cell_type": "markdown",
   "metadata": {},
   "source": [
    "### 6) get current currency exchange rates and convert currencies in eur"
   ]
  },
  {
   "cell_type": "code",
   "execution_count": 3,
   "metadata": {},
   "outputs": [],
   "source": [
    "currencies_rate = get(\"http://www.floatrates.com/daily/eur.json\").json()"
   ]
  },
  {
   "cell_type": "code",
   "execution_count": 191,
   "metadata": {},
   "outputs": [],
   "source": [
    "currency_rate = get(\"https://api.exchangeratesapi.io/latest\").json()[\"rates\"] # base is EUR"
   ]
  },
  {
   "cell_type": "code",
   "execution_count": 192,
   "metadata": {},
   "outputs": [],
   "source": [
    "def converter(currency_rate_table, currency):\n",
    "    if currency == \"EUR\":\n",
    "        return(1)\n",
    "    elif currency not in currency_rate_table.keys():\n",
    "        return(0)\n",
    "    else:\n",
    "        return(float(currency_rate[currency]))\n",
    "\n",
    "vectorize_converter = np.vectorize(converter)\n",
    "eur_price = df_c2.price/vectorize_converter(currency_rate, df_c2.currency_code)"
   ]
  },
  {
   "cell_type": "code",
   "execution_count": 193,
   "metadata": {},
   "outputs": [],
   "source": [
    "if \"price_in_euro\" not in df_c2.columns:\n",
    "    df_c2.insert(5, \"price_in_euro\", np.round(eur_price,2))\n",
    "else:\n",
    "    df_c2[\"price_in_euro\"] = np.round(eur_price,2)"
   ]
  },
  {
   "cell_type": "code",
   "execution_count": 195,
   "metadata": {
    "scrolled": true
   },
   "outputs": [
    {
     "data": {
      "text/html": [
       "<div>\n",
       "<style scoped>\n",
       "    .dataframe tbody tr th:only-of-type {\n",
       "        vertical-align: middle;\n",
       "    }\n",
       "\n",
       "    .dataframe tbody tr th {\n",
       "        vertical-align: top;\n",
       "    }\n",
       "\n",
       "    .dataframe thead th {\n",
       "        text-align: right;\n",
       "    }\n",
       "</style>\n",
       "<table border=\"1\" class=\"dataframe\">\n",
       "  <thead>\n",
       "    <tr style=\"text-align: right;\">\n",
       "      <th></th>\n",
       "      <th>username</th>\n",
       "      <th>ip_address</th>\n",
       "      <th>ip_location</th>\n",
       "      <th>product</th>\n",
       "      <th>price</th>\n",
       "      <th>price_in_euro</th>\n",
       "      <th>currency_code</th>\n",
       "      <th>infos</th>\n",
       "    </tr>\n",
       "  </thead>\n",
       "  <tbody>\n",
       "    <tr>\n",
       "      <th>3</th>\n",
       "      <td>kkarolowski3</td>\n",
       "      <td>26.191.237.49</td>\n",
       "      <td>United States</td>\n",
       "      <td>Water - Mineral, Natural</td>\n",
       "      <td>350.15</td>\n",
       "      <td>313.39</td>\n",
       "      <td>USD</td>\n",
       "      <td>Contains gluten</td>\n",
       "    </tr>\n",
       "    <tr>\n",
       "      <th>4</th>\n",
       "      <td>mbuckney4</td>\n",
       "      <td>58.90.204.239</td>\n",
       "      <td>Japan</td>\n",
       "      <td>Radish - Pickled</td>\n",
       "      <td>949.79</td>\n",
       "      <td>7.83</td>\n",
       "      <td>JPY</td>\n",
       "      <td>May contain sugar, egg and fish</td>\n",
       "    </tr>\n",
       "    <tr>\n",
       "      <th>7</th>\n",
       "      <td>avowdon7</td>\n",
       "      <td>189.169.17.54</td>\n",
       "      <td>Mexico</td>\n",
       "      <td>Dc Hikiage Hira Huba</td>\n",
       "      <td>111.56</td>\n",
       "      <td>5.21</td>\n",
       "      <td>MXN</td>\n",
       "      <td>Contains sugar</td>\n",
       "    </tr>\n",
       "    <tr>\n",
       "      <th>8</th>\n",
       "      <td>epridham8</td>\n",
       "      <td>187.129.113.105</td>\n",
       "      <td>Mexico</td>\n",
       "      <td>Dried Figs</td>\n",
       "      <td>88.05</td>\n",
       "      <td>4.11</td>\n",
       "      <td>MXN</td>\n",
       "      <td>Ingredients: sugar, milk and fish</td>\n",
       "    </tr>\n",
       "    <tr>\n",
       "      <th>9</th>\n",
       "      <td>tkendrew9</td>\n",
       "      <td>22.32.234.215</td>\n",
       "      <td>United States</td>\n",
       "      <td>Pop - Club Soda Can</td>\n",
       "      <td>861.25</td>\n",
       "      <td>770.83</td>\n",
       "      <td>USD</td>\n",
       "      <td>May contain peanut, sugar, milk and fish</td>\n",
       "    </tr>\n",
       "  </tbody>\n",
       "</table>\n",
       "</div>"
      ],
      "text/plain": [
       "       username       ip_address    ip_location                   product  \\\n",
       "3  kkarolowski3    26.191.237.49  United States  Water - Mineral, Natural   \n",
       "4     mbuckney4    58.90.204.239          Japan          Radish - Pickled   \n",
       "7      avowdon7    189.169.17.54         Mexico      Dc Hikiage Hira Huba   \n",
       "8     epridham8  187.129.113.105         Mexico                Dried Figs   \n",
       "9     tkendrew9    22.32.234.215  United States       Pop - Club Soda Can   \n",
       "\n",
       "    price  price_in_euro currency_code  \\\n",
       "3  350.15         313.39           USD   \n",
       "4  949.79           7.83           JPY   \n",
       "7  111.56           5.21           MXN   \n",
       "8   88.05           4.11           MXN   \n",
       "9  861.25         770.83           USD   \n",
       "\n",
       "                                      infos  \n",
       "3                           Contains gluten  \n",
       "4           May contain sugar, egg and fish  \n",
       "7                            Contains sugar  \n",
       "8         Ingredients: sugar, milk and fish  \n",
       "9  May contain peanut, sugar, milk and fish  "
      ]
     },
     "execution_count": 195,
     "metadata": {},
     "output_type": "execute_result"
    }
   ],
   "source": [
    "df_c2.head()"
   ]
  },
  {
   "cell_type": "markdown",
   "metadata": {},
   "source": [
    "# II) Get all ingredient in single column"
   ]
  },
  {
   "cell_type": "markdown",
   "metadata": {},
   "source": [
    "### 1) get all ingredients"
   ]
  },
  {
   "cell_type": "code",
   "execution_count": 231,
   "metadata": {
    "scrolled": true
   },
   "outputs": [
    {
     "data": {
      "text/plain": [
       "['sugar',\n",
       " 'peanut',\n",
       " 'fish',\n",
       " 'Ingredients:',\n",
       " 'mustard',\n",
       " 'gluten',\n",
       " 'egg',\n",
       " 'milk',\n",
       " 'soja']"
      ]
     },
     "execution_count": 231,
     "metadata": {},
     "output_type": "execute_result"
    }
   ],
   "source": [
    "ingredients = []\n",
    "words = [\"and\",\"And\",\"may\",\"May\",\"contain\",\"contains\",\"Contain\",\"Contains\",\"Ingredients\",\"Ingredient\",\"ingredients\",\"ingredient\"]\n",
    "for L in df[\"infos\"].replace(\",\",\"\", regex=True).str.split(\" \"): \n",
    "    for x in L:\n",
    "        if x not in ingredients and x not in words:\n",
    "            ingredients.append(x)\n",
    "ingredients"
   ]
  },
  {
   "cell_type": "code",
   "execution_count": 234,
   "metadata": {},
   "outputs": [],
   "source": [
    "def filterwords(liste_ingredients):\n",
    "    words_to_filter = [\"and\",\"And\",\"may\",\"May\",\"contain\",\"contains\",\"Contain\",\n",
    "                     \"Contains\",\"Ingredients\",\"Ingredient\",\"ingredients\",\"ingredient\"]\n",
    "    return([x for x in liste_ingredients if x not in words_to_filter])"
   ]
  },
  {
   "cell_type": "code",
   "execution_count": 288,
   "metadata": {},
   "outputs": [
    {
     "data": {
      "text/html": [
       "<div>\n",
       "<style scoped>\n",
       "    .dataframe tbody tr th:only-of-type {\n",
       "        vertical-align: middle;\n",
       "    }\n",
       "\n",
       "    .dataframe tbody tr th {\n",
       "        vertical-align: top;\n",
       "    }\n",
       "\n",
       "    .dataframe thead th {\n",
       "        text-align: right;\n",
       "    }\n",
       "</style>\n",
       "<table border=\"1\" class=\"dataframe\">\n",
       "  <thead>\n",
       "    <tr style=\"text-align: right;\">\n",
       "      <th></th>\n",
       "      <th>username</th>\n",
       "      <th>ip_address</th>\n",
       "      <th>ip_location</th>\n",
       "      <th>product</th>\n",
       "      <th>price</th>\n",
       "      <th>price_in_euro</th>\n",
       "      <th>currency_code</th>\n",
       "      <th>egg</th>\n",
       "      <th>fish</th>\n",
       "      <th>gluten</th>\n",
       "      <th>milk</th>\n",
       "      <th>mustard</th>\n",
       "      <th>peanut</th>\n",
       "      <th>soja</th>\n",
       "      <th>sugar</th>\n",
       "    </tr>\n",
       "  </thead>\n",
       "  <tbody>\n",
       "    <tr>\n",
       "      <th>3</th>\n",
       "      <td>kkarolowski3</td>\n",
       "      <td>26.191.237.49</td>\n",
       "      <td>United States</td>\n",
       "      <td>Water - Mineral, Natural</td>\n",
       "      <td>350.15</td>\n",
       "      <td>313.39</td>\n",
       "      <td>USD</td>\n",
       "      <td>0</td>\n",
       "      <td>0</td>\n",
       "      <td>1</td>\n",
       "      <td>0</td>\n",
       "      <td>0</td>\n",
       "      <td>0</td>\n",
       "      <td>0</td>\n",
       "      <td>0</td>\n",
       "    </tr>\n",
       "    <tr>\n",
       "      <th>4</th>\n",
       "      <td>mbuckney4</td>\n",
       "      <td>58.90.204.239</td>\n",
       "      <td>Japan</td>\n",
       "      <td>Radish - Pickled</td>\n",
       "      <td>949.79</td>\n",
       "      <td>7.83</td>\n",
       "      <td>JPY</td>\n",
       "      <td>0</td>\n",
       "      <td>0</td>\n",
       "      <td>0</td>\n",
       "      <td>0</td>\n",
       "      <td>0</td>\n",
       "      <td>0</td>\n",
       "      <td>0</td>\n",
       "      <td>1</td>\n",
       "    </tr>\n",
       "    <tr>\n",
       "      <th>4</th>\n",
       "      <td>mbuckney4</td>\n",
       "      <td>58.90.204.239</td>\n",
       "      <td>Japan</td>\n",
       "      <td>Radish - Pickled</td>\n",
       "      <td>949.79</td>\n",
       "      <td>7.83</td>\n",
       "      <td>JPY</td>\n",
       "      <td>1</td>\n",
       "      <td>0</td>\n",
       "      <td>0</td>\n",
       "      <td>0</td>\n",
       "      <td>0</td>\n",
       "      <td>0</td>\n",
       "      <td>0</td>\n",
       "      <td>0</td>\n",
       "    </tr>\n",
       "    <tr>\n",
       "      <th>4</th>\n",
       "      <td>mbuckney4</td>\n",
       "      <td>58.90.204.239</td>\n",
       "      <td>Japan</td>\n",
       "      <td>Radish - Pickled</td>\n",
       "      <td>949.79</td>\n",
       "      <td>7.83</td>\n",
       "      <td>JPY</td>\n",
       "      <td>0</td>\n",
       "      <td>1</td>\n",
       "      <td>0</td>\n",
       "      <td>0</td>\n",
       "      <td>0</td>\n",
       "      <td>0</td>\n",
       "      <td>0</td>\n",
       "      <td>0</td>\n",
       "    </tr>\n",
       "    <tr>\n",
       "      <th>7</th>\n",
       "      <td>avowdon7</td>\n",
       "      <td>189.169.17.54</td>\n",
       "      <td>Mexico</td>\n",
       "      <td>Dc Hikiage Hira Huba</td>\n",
       "      <td>111.56</td>\n",
       "      <td>5.21</td>\n",
       "      <td>MXN</td>\n",
       "      <td>0</td>\n",
       "      <td>0</td>\n",
       "      <td>0</td>\n",
       "      <td>0</td>\n",
       "      <td>0</td>\n",
       "      <td>0</td>\n",
       "      <td>0</td>\n",
       "      <td>1</td>\n",
       "    </tr>\n",
       "  </tbody>\n",
       "</table>\n",
       "</div>"
      ],
      "text/plain": [
       "       username     ip_address    ip_location                   product  \\\n",
       "3  kkarolowski3  26.191.237.49  United States  Water - Mineral, Natural   \n",
       "4     mbuckney4  58.90.204.239          Japan          Radish - Pickled   \n",
       "4     mbuckney4  58.90.204.239          Japan          Radish - Pickled   \n",
       "4     mbuckney4  58.90.204.239          Japan          Radish - Pickled   \n",
       "7      avowdon7  189.169.17.54         Mexico      Dc Hikiage Hira Huba   \n",
       "\n",
       "    price  price_in_euro currency_code  egg  fish  gluten  milk  mustard  \\\n",
       "3  350.15         313.39           USD    0     0       1     0        0   \n",
       "4  949.79           7.83           JPY    0     0       0     0        0   \n",
       "4  949.79           7.83           JPY    1     0       0     0        0   \n",
       "4  949.79           7.83           JPY    0     1       0     0        0   \n",
       "7  111.56           5.21           MXN    0     0       0     0        0   \n",
       "\n",
       "   peanut  soja  sugar  \n",
       "3       0     0      0  \n",
       "4       0     0      1  \n",
       "4       0     0      0  \n",
       "4       0     0      0  \n",
       "7       0     0      1  "
      ]
     },
     "execution_count": 288,
     "metadata": {},
     "output_type": "execute_result"
    }
   ],
   "source": [
    "df_i = df_c2.copy()\n",
    "\n",
    "df_i[\"infos\"] = df_i[\"infos\"].replace(\",\",\"\", regex=True).replace(\":\",\"\", regex=True).str.split(\" \")\n",
    "df_i[\"infos\"] = df_i[\"infos\"].apply(filterwords)\n",
    "df_i = df_i.explode(\"infos\")\n",
    "df_dummies = pd.get_dummies(df_i.infos)\n",
    "df_i = pd.concat([df_i, df_dummies], axis=1)\n",
    "df_i.drop(columns = 'infos').head()"
   ]
  },
  {
   "cell_type": "code",
   "execution_count": null,
   "metadata": {},
   "outputs": [],
   "source": []
  }
 ],
 "metadata": {
  "kernelspec": {
   "display_name": "Python 3",
   "language": "python",
   "name": "python3"
  },
  "language_info": {
   "codemirror_mode": {
    "name": "ipython",
    "version": 3
   },
   "file_extension": ".py",
   "mimetype": "text/x-python",
   "name": "python",
   "nbconvert_exporter": "python",
   "pygments_lexer": "ipython3",
   "version": "3.7.3"
  }
 },
 "nbformat": 4,
 "nbformat_minor": 2
}
