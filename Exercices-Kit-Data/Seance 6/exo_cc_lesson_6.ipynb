{
 "cells": [
  {
   "cell_type": "code",
   "execution_count": 281,
   "metadata": {},
   "outputs": [],
   "source": [
    "import pandas as pd \n",
    "import numpy as np \n",
    "import geopandas as gpd\n",
    "import matplotlib\n",
    "import matplotlib.pyplot as plt\n",
    "matplotlib.style.use('seaborn')"
   ]
  },
  {
   "cell_type": "markdown",
   "metadata": {},
   "source": [
    "# Load data"
   ]
  },
  {
   "cell_type": "code",
   "execution_count": 4,
   "metadata": {},
   "outputs": [],
   "source": [
    "dfc = pd.read_csv(\"population_communes.csv\")\n",
    "dfd = pd.read_csv(\"surface_departements.csv\")"
   ]
  },
  {
   "cell_type": "code",
   "execution_count": 132,
   "metadata": {
    "scrolled": true
   },
   "outputs": [
    {
     "data": {
      "text/html": [
       "<div>\n",
       "<style scoped>\n",
       "    .dataframe tbody tr th:only-of-type {\n",
       "        vertical-align: middle;\n",
       "    }\n",
       "\n",
       "    .dataframe tbody tr th {\n",
       "        vertical-align: top;\n",
       "    }\n",
       "\n",
       "    .dataframe thead th {\n",
       "        text-align: right;\n",
       "    }\n",
       "</style>\n",
       "<table border=\"1\" class=\"dataframe\">\n",
       "  <thead>\n",
       "    <tr style=\"text-align: right;\">\n",
       "      <th></th>\n",
       "      <th>Code département</th>\n",
       "      <th>Code canton</th>\n",
       "      <th>Code arrondissement</th>\n",
       "      <th>Code région</th>\n",
       "      <th>Nom de la commune</th>\n",
       "      <th>Code commune</th>\n",
       "      <th>Nom de la région</th>\n",
       "      <th>variable</th>\n",
       "      <th>value</th>\n",
       "    </tr>\n",
       "  </thead>\n",
       "  <tbody>\n",
       "    <tr>\n",
       "      <th>0</th>\n",
       "      <td>64</td>\n",
       "      <td>27.0</td>\n",
       "      <td>3</td>\n",
       "      <td>75</td>\n",
       "      <td>Aast</td>\n",
       "      <td>1</td>\n",
       "      <td>Nouvelle-Aquitaine</td>\n",
       "      <td>Population totale</td>\n",
       "      <td>184</td>\n",
       "    </tr>\n",
       "    <tr>\n",
       "      <th>1</th>\n",
       "      <td>64</td>\n",
       "      <td>27.0</td>\n",
       "      <td>3</td>\n",
       "      <td>75</td>\n",
       "      <td>Aast</td>\n",
       "      <td>1</td>\n",
       "      <td>Nouvelle-Aquitaine</td>\n",
       "      <td>Population municipale</td>\n",
       "      <td>177</td>\n",
       "    </tr>\n",
       "  </tbody>\n",
       "</table>\n",
       "</div>"
      ],
      "text/plain": [
       "  Code département  Code canton  Code arrondissement  Code région  \\\n",
       "0               64         27.0                    3           75   \n",
       "1               64         27.0                    3           75   \n",
       "\n",
       "  Nom de la commune  Code commune    Nom de la région               variable  \\\n",
       "0              Aast             1  Nouvelle-Aquitaine      Population totale   \n",
       "1              Aast             1  Nouvelle-Aquitaine  Population municipale   \n",
       "\n",
       "   value  \n",
       "0    184  \n",
       "1    177  "
      ]
     },
     "execution_count": 132,
     "metadata": {},
     "output_type": "execute_result"
    }
   ],
   "source": [
    "dfc.head(2)"
   ]
  },
  {
   "cell_type": "markdown",
   "metadata": {},
   "source": [
    "# Group values by department"
   ]
  },
  {
   "cell_type": "code",
   "execution_count": 263,
   "metadata": {},
   "outputs": [],
   "source": [
    "df_1 = dfc.groupby([\"Code département\", \"variable\"]).sum()[['value']]"
   ]
  },
  {
   "cell_type": "code",
   "execution_count": 264,
   "metadata": {
    "scrolled": true
   },
   "outputs": [
    {
     "data": {
      "text/html": [
       "<div>\n",
       "<style scoped>\n",
       "    .dataframe tbody tr th:only-of-type {\n",
       "        vertical-align: middle;\n",
       "    }\n",
       "\n",
       "    .dataframe tbody tr th {\n",
       "        vertical-align: top;\n",
       "    }\n",
       "\n",
       "    .dataframe thead th {\n",
       "        text-align: right;\n",
       "    }\n",
       "</style>\n",
       "<table border=\"1\" class=\"dataframe\">\n",
       "  <thead>\n",
       "    <tr style=\"text-align: right;\">\n",
       "      <th></th>\n",
       "      <th></th>\n",
       "      <th>value</th>\n",
       "    </tr>\n",
       "    <tr>\n",
       "      <th>Code département</th>\n",
       "      <th>variable</th>\n",
       "      <th></th>\n",
       "    </tr>\n",
       "  </thead>\n",
       "  <tbody>\n",
       "    <tr>\n",
       "      <th rowspan=\"2\" valign=\"top\">01</th>\n",
       "      <th>Population municipale</th>\n",
       "      <td>638425</td>\n",
       "    </tr>\n",
       "    <tr>\n",
       "      <th>Population totale</th>\n",
       "      <td>655171</td>\n",
       "    </tr>\n",
       "    <tr>\n",
       "      <th rowspan=\"2\" valign=\"top\">02</th>\n",
       "      <th>Population municipale</th>\n",
       "      <td>536136</td>\n",
       "    </tr>\n",
       "    <tr>\n",
       "      <th>Population totale</th>\n",
       "      <td>549587</td>\n",
       "    </tr>\n",
       "    <tr>\n",
       "      <th>03</th>\n",
       "      <th>Population municipale</th>\n",
       "      <td>339384</td>\n",
       "    </tr>\n",
       "  </tbody>\n",
       "</table>\n",
       "</div>"
      ],
      "text/plain": [
       "                                         value\n",
       "Code département variable                     \n",
       "01               Population municipale  638425\n",
       "                 Population totale      655171\n",
       "02               Population municipale  536136\n",
       "                 Population totale      549587\n",
       "03               Population municipale  339384"
      ]
     },
     "execution_count": 264,
     "metadata": {},
     "output_type": "execute_result"
    }
   ],
   "source": [
    "df_1.head()"
   ]
  },
  {
   "cell_type": "markdown",
   "metadata": {},
   "source": [
    "## Unstack index and set one level index for columns"
   ]
  },
  {
   "cell_type": "code",
   "execution_count": 265,
   "metadata": {},
   "outputs": [],
   "source": [
    "df_1 = df_1.unstack()"
   ]
  },
  {
   "cell_type": "code",
   "execution_count": 266,
   "metadata": {},
   "outputs": [],
   "source": [
    "df_1.columns = df_1.columns.droplevel(level=0)"
   ]
  },
  {
   "cell_type": "code",
   "execution_count": 267,
   "metadata": {},
   "outputs": [],
   "source": [
    "df_1.columns = df_1.columns.set_names([None])"
   ]
  },
  {
   "cell_type": "code",
   "execution_count": 268,
   "metadata": {
    "scrolled": true
   },
   "outputs": [
    {
     "data": {
      "text/html": [
       "<div>\n",
       "<style scoped>\n",
       "    .dataframe tbody tr th:only-of-type {\n",
       "        vertical-align: middle;\n",
       "    }\n",
       "\n",
       "    .dataframe tbody tr th {\n",
       "        vertical-align: top;\n",
       "    }\n",
       "\n",
       "    .dataframe thead th {\n",
       "        text-align: right;\n",
       "    }\n",
       "</style>\n",
       "<table border=\"1\" class=\"dataframe\">\n",
       "  <thead>\n",
       "    <tr style=\"text-align: right;\">\n",
       "      <th></th>\n",
       "      <th>Population municipale</th>\n",
       "      <th>Population totale</th>\n",
       "    </tr>\n",
       "    <tr>\n",
       "      <th>Code département</th>\n",
       "      <th></th>\n",
       "      <th></th>\n",
       "    </tr>\n",
       "  </thead>\n",
       "  <tbody>\n",
       "    <tr>\n",
       "      <th>01</th>\n",
       "      <td>638425</td>\n",
       "      <td>655171</td>\n",
       "    </tr>\n",
       "    <tr>\n",
       "      <th>02</th>\n",
       "      <td>536136</td>\n",
       "      <td>549587</td>\n",
       "    </tr>\n",
       "    <tr>\n",
       "      <th>03</th>\n",
       "      <td>339384</td>\n",
       "      <td>349336</td>\n",
       "    </tr>\n",
       "    <tr>\n",
       "      <th>04</th>\n",
       "      <td>162565</td>\n",
       "      <td>167331</td>\n",
       "    </tr>\n",
       "    <tr>\n",
       "      <th>05</th>\n",
       "      <td>141107</td>\n",
       "      <td>146148</td>\n",
       "    </tr>\n",
       "  </tbody>\n",
       "</table>\n",
       "</div>"
      ],
      "text/plain": [
       "                  Population municipale  Population totale\n",
       "Code département                                          \n",
       "01                               638425             655171\n",
       "02                               536136             549587\n",
       "03                               339384             349336\n",
       "04                               162565             167331\n",
       "05                               141107             146148"
      ]
     },
     "execution_count": 268,
     "metadata": {},
     "output_type": "execute_result"
    }
   ],
   "source": [
    "df_1.head()"
   ]
  },
  {
   "cell_type": "markdown",
   "metadata": {},
   "source": [
    "# Compute % municipal polulation"
   ]
  },
  {
   "cell_type": "code",
   "execution_count": 269,
   "metadata": {},
   "outputs": [],
   "source": [
    "df_1[\"% municipal\"] = 100 -(df_1[\"Population totale\"] - df_1[\"Population municipale\"])\\\n",
    "                            /df_1[\"Population totale\"] *100"
   ]
  },
  {
   "cell_type": "code",
   "execution_count": 270,
   "metadata": {},
   "outputs": [
    {
     "data": {
      "text/html": [
       "<div>\n",
       "<style scoped>\n",
       "    .dataframe tbody tr th:only-of-type {\n",
       "        vertical-align: middle;\n",
       "    }\n",
       "\n",
       "    .dataframe tbody tr th {\n",
       "        vertical-align: top;\n",
       "    }\n",
       "\n",
       "    .dataframe thead th {\n",
       "        text-align: right;\n",
       "    }\n",
       "</style>\n",
       "<table border=\"1\" class=\"dataframe\">\n",
       "  <thead>\n",
       "    <tr style=\"text-align: right;\">\n",
       "      <th></th>\n",
       "      <th>Population municipale</th>\n",
       "      <th>Population totale</th>\n",
       "      <th>% municipal</th>\n",
       "    </tr>\n",
       "    <tr>\n",
       "      <th>Code département</th>\n",
       "      <th></th>\n",
       "      <th></th>\n",
       "      <th></th>\n",
       "    </tr>\n",
       "  </thead>\n",
       "  <tbody>\n",
       "    <tr>\n",
       "      <th>01</th>\n",
       "      <td>638425</td>\n",
       "      <td>655171</td>\n",
       "      <td>97.444026</td>\n",
       "    </tr>\n",
       "    <tr>\n",
       "      <th>02</th>\n",
       "      <td>536136</td>\n",
       "      <td>549587</td>\n",
       "      <td>97.552526</td>\n",
       "    </tr>\n",
       "    <tr>\n",
       "      <th>03</th>\n",
       "      <td>339384</td>\n",
       "      <td>349336</td>\n",
       "      <td>97.151167</td>\n",
       "    </tr>\n",
       "    <tr>\n",
       "      <th>04</th>\n",
       "      <td>162565</td>\n",
       "      <td>167331</td>\n",
       "      <td>97.151753</td>\n",
       "    </tr>\n",
       "    <tr>\n",
       "      <th>05</th>\n",
       "      <td>141107</td>\n",
       "      <td>146148</td>\n",
       "      <td>96.550757</td>\n",
       "    </tr>\n",
       "  </tbody>\n",
       "</table>\n",
       "</div>"
      ],
      "text/plain": [
       "                  Population municipale  Population totale  % municipal\n",
       "Code département                                                       \n",
       "01                               638425             655171    97.444026\n",
       "02                               536136             549587    97.552526\n",
       "03                               339384             349336    97.151167\n",
       "04                               162565             167331    97.151753\n",
       "05                               141107             146148    96.550757"
      ]
     },
     "execution_count": 270,
     "metadata": {},
     "output_type": "execute_result"
    }
   ],
   "source": [
    "df_1.head()"
   ]
  },
  {
   "cell_type": "markdown",
   "metadata": {},
   "source": [
    "# Join the region and compute the % municipal population per region"
   ]
  },
  {
   "cell_type": "code",
   "execution_count": 271,
   "metadata": {},
   "outputs": [],
   "source": [
    "df_1 = df_1.merge(dfc[[\"Code région\", \"Code département\"]].drop_duplicates(), left_on=['Code département'], right_on=['Code département'], how='inner')"
   ]
  },
  {
   "cell_type": "code",
   "execution_count": 272,
   "metadata": {},
   "outputs": [],
   "source": [
    "df_1[\"% region\"] = 100 *df_1[\"Population municipale\"] / df_1.groupby('Code région').transform('sum')['Population municipale'] "
   ]
  },
  {
   "cell_type": "code",
   "execution_count": 273,
   "metadata": {},
   "outputs": [
    {
     "data": {
      "text/html": [
       "<div>\n",
       "<style scoped>\n",
       "    .dataframe tbody tr th:only-of-type {\n",
       "        vertical-align: middle;\n",
       "    }\n",
       "\n",
       "    .dataframe tbody tr th {\n",
       "        vertical-align: top;\n",
       "    }\n",
       "\n",
       "    .dataframe thead th {\n",
       "        text-align: right;\n",
       "    }\n",
       "</style>\n",
       "<table border=\"1\" class=\"dataframe\">\n",
       "  <thead>\n",
       "    <tr style=\"text-align: right;\">\n",
       "      <th></th>\n",
       "      <th>Code département</th>\n",
       "      <th>Population municipale</th>\n",
       "      <th>Population totale</th>\n",
       "      <th>% municipal</th>\n",
       "      <th>Code région</th>\n",
       "      <th>% region</th>\n",
       "    </tr>\n",
       "  </thead>\n",
       "  <tbody>\n",
       "    <tr>\n",
       "      <th>0</th>\n",
       "      <td>01</td>\n",
       "      <td>638425</td>\n",
       "      <td>655171</td>\n",
       "      <td>97.444026</td>\n",
       "      <td>84</td>\n",
       "      <td>8.06409</td>\n",
       "    </tr>\n",
       "    <tr>\n",
       "      <th>1</th>\n",
       "      <td>02</td>\n",
       "      <td>536136</td>\n",
       "      <td>549587</td>\n",
       "      <td>97.552526</td>\n",
       "      <td>32</td>\n",
       "      <td>8.92538</td>\n",
       "    </tr>\n",
       "    <tr>\n",
       "      <th>2</th>\n",
       "      <td>03</td>\n",
       "      <td>339384</td>\n",
       "      <td>349336</td>\n",
       "      <td>97.151167</td>\n",
       "      <td>84</td>\n",
       "      <td>4.28684</td>\n",
       "    </tr>\n",
       "    <tr>\n",
       "      <th>3</th>\n",
       "      <td>04</td>\n",
       "      <td>162565</td>\n",
       "      <td>167331</td>\n",
       "      <td>97.151753</td>\n",
       "      <td>93</td>\n",
       "      <td>3.2371</td>\n",
       "    </tr>\n",
       "    <tr>\n",
       "      <th>4</th>\n",
       "      <td>05</td>\n",
       "      <td>141107</td>\n",
       "      <td>146148</td>\n",
       "      <td>96.550757</td>\n",
       "      <td>93</td>\n",
       "      <td>2.80982</td>\n",
       "    </tr>\n",
       "  </tbody>\n",
       "</table>\n",
       "</div>"
      ],
      "text/plain": [
       "  Code département  Population municipale  Population totale  % municipal  \\\n",
       "0               01                 638425             655171    97.444026   \n",
       "1               02                 536136             549587    97.552526   \n",
       "2               03                 339384             349336    97.151167   \n",
       "3               04                 162565             167331    97.151753   \n",
       "4               05                 141107             146148    96.550757   \n",
       "\n",
       "   Code région % region  \n",
       "0           84  8.06409  \n",
       "1           32  8.92538  \n",
       "2           84  4.28684  \n",
       "3           93   3.2371  \n",
       "4           93  2.80982  "
      ]
     },
     "execution_count": 273,
     "metadata": {},
     "output_type": "execute_result"
    }
   ],
   "source": [
    "df_1.head()"
   ]
  },
  {
   "cell_type": "code",
   "execution_count": 274,
   "metadata": {},
   "outputs": [
    {
     "data": {
      "text/html": [
       "<div>\n",
       "<style scoped>\n",
       "    .dataframe tbody tr th:only-of-type {\n",
       "        vertical-align: middle;\n",
       "    }\n",
       "\n",
       "    .dataframe tbody tr th {\n",
       "        vertical-align: top;\n",
       "    }\n",
       "\n",
       "    .dataframe thead th {\n",
       "        text-align: right;\n",
       "    }\n",
       "</style>\n",
       "<table border=\"1\" class=\"dataframe\">\n",
       "  <thead>\n",
       "    <tr style=\"text-align: right;\">\n",
       "      <th></th>\n",
       "      <th>% region</th>\n",
       "    </tr>\n",
       "    <tr>\n",
       "      <th>Code région</th>\n",
       "      <th></th>\n",
       "    </tr>\n",
       "  </thead>\n",
       "  <tbody>\n",
       "    <tr>\n",
       "      <th>1</th>\n",
       "      <td>100.0</td>\n",
       "    </tr>\n",
       "    <tr>\n",
       "      <th>2</th>\n",
       "      <td>100.0</td>\n",
       "    </tr>\n",
       "    <tr>\n",
       "      <th>3</th>\n",
       "      <td>100.0</td>\n",
       "    </tr>\n",
       "    <tr>\n",
       "      <th>4</th>\n",
       "      <td>100.0</td>\n",
       "    </tr>\n",
       "    <tr>\n",
       "      <th>11</th>\n",
       "      <td>100.0</td>\n",
       "    </tr>\n",
       "  </tbody>\n",
       "</table>\n",
       "</div>"
      ],
      "text/plain": [
       "             % region\n",
       "Code région          \n",
       "1               100.0\n",
       "2               100.0\n",
       "3               100.0\n",
       "4               100.0\n",
       "11              100.0"
      ]
     },
     "execution_count": 274,
     "metadata": {},
     "output_type": "execute_result"
    }
   ],
   "source": [
    "df_1[[\"% region\", \"Code région\"]].groupby([\"Code région\"]).sum().head()"
   ]
  },
  {
   "cell_type": "code",
   "execution_count": 275,
   "metadata": {},
   "outputs": [
    {
     "data": {
      "text/html": [
       "<div>\n",
       "<style scoped>\n",
       "    .dataframe tbody tr th:only-of-type {\n",
       "        vertical-align: middle;\n",
       "    }\n",
       "\n",
       "    .dataframe tbody tr th {\n",
       "        vertical-align: top;\n",
       "    }\n",
       "\n",
       "    .dataframe thead th {\n",
       "        text-align: right;\n",
       "    }\n",
       "</style>\n",
       "<table border=\"1\" class=\"dataframe\">\n",
       "  <thead>\n",
       "    <tr style=\"text-align: right;\">\n",
       "      <th></th>\n",
       "      <th>code_insee</th>\n",
       "      <th>nom</th>\n",
       "      <th>surf_km2</th>\n",
       "    </tr>\n",
       "  </thead>\n",
       "  <tbody>\n",
       "    <tr>\n",
       "      <th>0</th>\n",
       "      <td>974</td>\n",
       "      <td>La Réunion</td>\n",
       "      <td>2505.0</td>\n",
       "    </tr>\n",
       "    <tr>\n",
       "      <th>1</th>\n",
       "      <td>11</td>\n",
       "      <td>Aude</td>\n",
       "      <td>6343.0</td>\n",
       "    </tr>\n",
       "    <tr>\n",
       "      <th>2</th>\n",
       "      <td>43</td>\n",
       "      <td>Haute-Loire</td>\n",
       "      <td>5003.0</td>\n",
       "    </tr>\n",
       "    <tr>\n",
       "      <th>3</th>\n",
       "      <td>13</td>\n",
       "      <td>Bouches-du-Rhône</td>\n",
       "      <td>5247.0</td>\n",
       "    </tr>\n",
       "    <tr>\n",
       "      <th>4</th>\n",
       "      <td>47</td>\n",
       "      <td>Lot-et-Garonne</td>\n",
       "      <td>5385.0</td>\n",
       "    </tr>\n",
       "    <tr>\n",
       "      <th>...</th>\n",
       "      <td>...</td>\n",
       "      <td>...</td>\n",
       "      <td>...</td>\n",
       "    </tr>\n",
       "    <tr>\n",
       "      <th>96</th>\n",
       "      <td>56</td>\n",
       "      <td>Morbihan</td>\n",
       "      <td>6870.0</td>\n",
       "    </tr>\n",
       "    <tr>\n",
       "      <th>97</th>\n",
       "      <td>25</td>\n",
       "      <td>Doubs</td>\n",
       "      <td>5256.0</td>\n",
       "    </tr>\n",
       "    <tr>\n",
       "      <th>98</th>\n",
       "      <td>39</td>\n",
       "      <td>Jura</td>\n",
       "      <td>5049.0</td>\n",
       "    </tr>\n",
       "    <tr>\n",
       "      <th>99</th>\n",
       "      <td>07</td>\n",
       "      <td>Ardèche</td>\n",
       "      <td>5566.0</td>\n",
       "    </tr>\n",
       "    <tr>\n",
       "      <th>100</th>\n",
       "      <td>30</td>\n",
       "      <td>Gard</td>\n",
       "      <td>5875.0</td>\n",
       "    </tr>\n",
       "  </tbody>\n",
       "</table>\n",
       "<p>101 rows × 3 columns</p>\n",
       "</div>"
      ],
      "text/plain": [
       "    code_insee               nom  surf_km2\n",
       "0          974        La Réunion    2505.0\n",
       "1           11              Aude    6343.0\n",
       "2           43       Haute-Loire    5003.0\n",
       "3           13  Bouches-du-Rhône    5247.0\n",
       "4           47    Lot-et-Garonne    5385.0\n",
       "..         ...               ...       ...\n",
       "96          56          Morbihan    6870.0\n",
       "97          25             Doubs    5256.0\n",
       "98          39              Jura    5049.0\n",
       "99          07           Ardèche    5566.0\n",
       "100         30              Gard    5875.0\n",
       "\n",
       "[101 rows x 3 columns]"
      ]
     },
     "execution_count": 275,
     "metadata": {},
     "output_type": "execute_result"
    }
   ],
   "source": [
    "dfd"
   ]
  },
  {
   "cell_type": "code",
   "execution_count": 276,
   "metadata": {},
   "outputs": [],
   "source": [
    "df = df_1.merge(dfd, left_on=[\"Code département\"], right_on=[\"code_insee\"], copy=False)"
   ]
  },
  {
   "cell_type": "code",
   "execution_count": 277,
   "metadata": {},
   "outputs": [],
   "source": [
    "df.drop(['code_insee'], axis=1)\n",
    "df[\"densité\"] = df[\"Population municipale\"]/df[\"surf_km2\"]"
   ]
  },
  {
   "cell_type": "markdown",
   "metadata": {},
   "source": [
    "# Dataframe final"
   ]
  },
  {
   "cell_type": "code",
   "execution_count": 278,
   "metadata": {
    "scrolled": true
   },
   "outputs": [
    {
     "data": {
      "text/html": [
       "<div>\n",
       "<style scoped>\n",
       "    .dataframe tbody tr th:only-of-type {\n",
       "        vertical-align: middle;\n",
       "    }\n",
       "\n",
       "    .dataframe tbody tr th {\n",
       "        vertical-align: top;\n",
       "    }\n",
       "\n",
       "    .dataframe thead th {\n",
       "        text-align: right;\n",
       "    }\n",
       "</style>\n",
       "<table border=\"1\" class=\"dataframe\">\n",
       "  <thead>\n",
       "    <tr style=\"text-align: right;\">\n",
       "      <th></th>\n",
       "      <th>Code département</th>\n",
       "      <th>Population municipale</th>\n",
       "      <th>Population totale</th>\n",
       "      <th>% municipal</th>\n",
       "      <th>Code région</th>\n",
       "      <th>% region</th>\n",
       "      <th>code_insee</th>\n",
       "      <th>nom</th>\n",
       "      <th>surf_km2</th>\n",
       "      <th>densité</th>\n",
       "    </tr>\n",
       "  </thead>\n",
       "  <tbody>\n",
       "    <tr>\n",
       "      <th>0</th>\n",
       "      <td>01</td>\n",
       "      <td>638425</td>\n",
       "      <td>655171</td>\n",
       "      <td>97.444026</td>\n",
       "      <td>84</td>\n",
       "      <td>8.06409</td>\n",
       "      <td>01</td>\n",
       "      <td>Ain</td>\n",
       "      <td>5784.0</td>\n",
       "      <td>110.377766</td>\n",
       "    </tr>\n",
       "    <tr>\n",
       "      <th>1</th>\n",
       "      <td>02</td>\n",
       "      <td>536136</td>\n",
       "      <td>549587</td>\n",
       "      <td>97.552526</td>\n",
       "      <td>32</td>\n",
       "      <td>8.92538</td>\n",
       "      <td>02</td>\n",
       "      <td>Aisne</td>\n",
       "      <td>7411.0</td>\n",
       "      <td>72.343274</td>\n",
       "    </tr>\n",
       "    <tr>\n",
       "      <th>2</th>\n",
       "      <td>03</td>\n",
       "      <td>339384</td>\n",
       "      <td>349336</td>\n",
       "      <td>97.151167</td>\n",
       "      <td>84</td>\n",
       "      <td>4.28684</td>\n",
       "      <td>03</td>\n",
       "      <td>Allier</td>\n",
       "      <td>7379.0</td>\n",
       "      <td>45.993224</td>\n",
       "    </tr>\n",
       "    <tr>\n",
       "      <th>3</th>\n",
       "      <td>04</td>\n",
       "      <td>162565</td>\n",
       "      <td>167331</td>\n",
       "      <td>97.151753</td>\n",
       "      <td>93</td>\n",
       "      <td>3.2371</td>\n",
       "      <td>04</td>\n",
       "      <td>Alpes-de-Haute-Provence</td>\n",
       "      <td>6993.0</td>\n",
       "      <td>23.246818</td>\n",
       "    </tr>\n",
       "    <tr>\n",
       "      <th>4</th>\n",
       "      <td>05</td>\n",
       "      <td>141107</td>\n",
       "      <td>146148</td>\n",
       "      <td>96.550757</td>\n",
       "      <td>93</td>\n",
       "      <td>2.80982</td>\n",
       "      <td>05</td>\n",
       "      <td>Hautes-Alpes</td>\n",
       "      <td>5697.0</td>\n",
       "      <td>24.768650</td>\n",
       "    </tr>\n",
       "  </tbody>\n",
       "</table>\n",
       "</div>"
      ],
      "text/plain": [
       "  Code département  Population municipale  Population totale  % municipal  \\\n",
       "0               01                 638425             655171    97.444026   \n",
       "1               02                 536136             549587    97.552526   \n",
       "2               03                 339384             349336    97.151167   \n",
       "3               04                 162565             167331    97.151753   \n",
       "4               05                 141107             146148    96.550757   \n",
       "\n",
       "   Code région % region code_insee                      nom  surf_km2  \\\n",
       "0           84  8.06409         01                      Ain    5784.0   \n",
       "1           32  8.92538         02                    Aisne    7411.0   \n",
       "2           84  4.28684         03                   Allier    7379.0   \n",
       "3           93   3.2371         04  Alpes-de-Haute-Provence    6993.0   \n",
       "4           93  2.80982         05             Hautes-Alpes    5697.0   \n",
       "\n",
       "      densité  \n",
       "0  110.377766  \n",
       "1   72.343274  \n",
       "2   45.993224  \n",
       "3   23.246818  \n",
       "4   24.768650  "
      ]
     },
     "execution_count": 278,
     "metadata": {},
     "output_type": "execute_result"
    }
   ],
   "source": [
    "df.head()"
   ]
  },
  {
   "cell_type": "code",
   "execution_count": 279,
   "metadata": {},
   "outputs": [
    {
     "data": {
      "text/html": [
       "<div>\n",
       "<style scoped>\n",
       "    .dataframe tbody tr th:only-of-type {\n",
       "        vertical-align: middle;\n",
       "    }\n",
       "\n",
       "    .dataframe tbody tr th {\n",
       "        vertical-align: top;\n",
       "    }\n",
       "\n",
       "    .dataframe thead th {\n",
       "        text-align: right;\n",
       "    }\n",
       "</style>\n",
       "<table border=\"1\" class=\"dataframe\">\n",
       "  <thead>\n",
       "    <tr style=\"text-align: right;\">\n",
       "      <th></th>\n",
       "      <th>Code département</th>\n",
       "      <th>nom</th>\n",
       "      <th>Population municipale</th>\n",
       "      <th>densité</th>\n",
       "    </tr>\n",
       "  </thead>\n",
       "  <tbody>\n",
       "    <tr>\n",
       "      <th>0</th>\n",
       "      <td>01</td>\n",
       "      <td>Ain</td>\n",
       "      <td>638425</td>\n",
       "      <td>110.377766</td>\n",
       "    </tr>\n",
       "    <tr>\n",
       "      <th>1</th>\n",
       "      <td>02</td>\n",
       "      <td>Aisne</td>\n",
       "      <td>536136</td>\n",
       "      <td>72.343274</td>\n",
       "    </tr>\n",
       "    <tr>\n",
       "      <th>2</th>\n",
       "      <td>03</td>\n",
       "      <td>Allier</td>\n",
       "      <td>339384</td>\n",
       "      <td>45.993224</td>\n",
       "    </tr>\n",
       "    <tr>\n",
       "      <th>3</th>\n",
       "      <td>04</td>\n",
       "      <td>Alpes-de-Haute-Provence</td>\n",
       "      <td>162565</td>\n",
       "      <td>23.246818</td>\n",
       "    </tr>\n",
       "    <tr>\n",
       "      <th>4</th>\n",
       "      <td>05</td>\n",
       "      <td>Hautes-Alpes</td>\n",
       "      <td>141107</td>\n",
       "      <td>24.768650</td>\n",
       "    </tr>\n",
       "    <tr>\n",
       "      <th>...</th>\n",
       "      <td>...</td>\n",
       "      <td>...</td>\n",
       "      <td>...</td>\n",
       "      <td>...</td>\n",
       "    </tr>\n",
       "    <tr>\n",
       "      <th>95</th>\n",
       "      <td>95</td>\n",
       "      <td>Val-d'Oise</td>\n",
       "      <td>1221923</td>\n",
       "      <td>975.197925</td>\n",
       "    </tr>\n",
       "    <tr>\n",
       "      <th>96</th>\n",
       "      <td>971</td>\n",
       "      <td>Guadeloupe</td>\n",
       "      <td>394110</td>\n",
       "      <td>241.193390</td>\n",
       "    </tr>\n",
       "    <tr>\n",
       "      <th>97</th>\n",
       "      <td>972</td>\n",
       "      <td>Martinique</td>\n",
       "      <td>376480</td>\n",
       "      <td>345.711662</td>\n",
       "    </tr>\n",
       "    <tr>\n",
       "      <th>98</th>\n",
       "      <td>973</td>\n",
       "      <td>Guyane</td>\n",
       "      <td>269352</td>\n",
       "      <td>3.224112</td>\n",
       "    </tr>\n",
       "    <tr>\n",
       "      <th>99</th>\n",
       "      <td>974</td>\n",
       "      <td>La Réunion</td>\n",
       "      <td>852924</td>\n",
       "      <td>340.488623</td>\n",
       "    </tr>\n",
       "  </tbody>\n",
       "</table>\n",
       "<p>100 rows × 4 columns</p>\n",
       "</div>"
      ],
      "text/plain": [
       "   Code département                      nom  Population municipale  \\\n",
       "0                01                      Ain                 638425   \n",
       "1                02                    Aisne                 536136   \n",
       "2                03                   Allier                 339384   \n",
       "3                04  Alpes-de-Haute-Provence                 162565   \n",
       "4                05             Hautes-Alpes                 141107   \n",
       "..              ...                      ...                    ...   \n",
       "95               95               Val-d'Oise                1221923   \n",
       "96              971               Guadeloupe                 394110   \n",
       "97              972               Martinique                 376480   \n",
       "98              973                   Guyane                 269352   \n",
       "99              974               La Réunion                 852924   \n",
       "\n",
       "       densité  \n",
       "0   110.377766  \n",
       "1    72.343274  \n",
       "2    45.993224  \n",
       "3    23.246818  \n",
       "4    24.768650  \n",
       "..         ...  \n",
       "95  975.197925  \n",
       "96  241.193390  \n",
       "97  345.711662  \n",
       "98    3.224112  \n",
       "99  340.488623  \n",
       "\n",
       "[100 rows x 4 columns]"
      ]
     },
     "execution_count": 279,
     "metadata": {},
     "output_type": "execute_result"
    }
   ],
   "source": [
    "col = df.columns.tolist()\n",
    "col_reshape = [col[0]] + [col[-3]] + col[1:2] + [col[-1]]\n",
    "df = df[col_reshape]\n",
    "df"
   ]
  },
  {
   "cell_type": "code",
   "execution_count": 286,
   "metadata": {},
   "outputs": [],
   "source": [
    "dpts_shape = gpd.read_file('./depts-shp/departements-20180101.shp')"
   ]
  },
  {
   "cell_type": "code",
   "execution_count": 289,
   "metadata": {},
   "outputs": [],
   "source": [
    "dpts = dpts_shape.merge(df.rename(columns={\n",
    "    'nom': 'nom',\n",
    "    'Population municipale': 'pop',\n",
    "}))[['Code département', 'nom', 'geometry', 'pop']]"
   ]
  },
  {
   "cell_type": "code",
   "execution_count": 298,
   "metadata": {},
   "outputs": [],
   "source": [
    "paris = dpts[dpts.nom == 'Paris'].iloc[0].geometry.centroid\n",
    "dpts = dpts[dpts.geometry.distance(paris) < 10]\n",
    "dpts = dpts.to_crs({'init': 'epsg:3395'})  # mercator projection"
   ]
  },
  {
   "cell_type": "code",
   "execution_count": 301,
   "metadata": {},
   "outputs": [
    {
     "data": {
      "text/plain": [
       "Text(0.5, 1, 'Population par département')"
      ]
     },
     "execution_count": 301,
     "metadata": {},
     "output_type": "execute_result"
    },
    {
     "data": {
      "text/plain": [
       "<Figure size 576x396 with 0 Axes>"
      ]
     },
     "metadata": {},
     "output_type": "display_data"
    },
    {
     "data": {
      "image/png": "[encoded data removed]",
      "text/plain": [
       "<Figure size 504x504 with 2 Axes>"
      ]
     },
     "metadata": {},
     "output_type": "display_data"
    }
   ],
   "source": [
    "plt.figure()\n",
    "\n",
    "p = dpts.plot(column='pop',\n",
    "    figsize=(7, 7),\n",
    "    legend=True,\n",
    "    cmap='Greens',\n",
    ")\n",
    "\n",
    "plt.title('Population par département')"
   ]
  },
  {
   "cell_type": "code",
   "execution_count": null,
   "metadata": {},
   "outputs": [],
   "source": []
  }
 ],
 "metadata": {
  "kernelspec": {
   "display_name": "Python 3",
   "language": "python",
   "name": "python3"
  },
  "language_info": {
   "codemirror_mode": {
    "name": "ipython",
    "version": 3
   },
   "file_extension": ".py",
   "mimetype": "text/x-python",
   "name": "python",
   "nbconvert_exporter": "python",
   "pygments_lexer": "ipython3",
   "version": "3.7.3"
  }
 },
 "nbformat": 4,
 "nbformat_minor": 2
}
